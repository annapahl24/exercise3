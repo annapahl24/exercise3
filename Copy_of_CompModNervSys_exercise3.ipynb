{
  "cells": [
    {
      "cell_type": "markdown",
      "metadata": {
        "id": "view-in-github",
        "colab_type": "text"
      },
      "source": [
        "<a href=\"https://colab.research.google.com/github/annapahl24/exercise3/blob/main/Copy_of_CompModNervSys_exercise3.ipynb\" target=\"_parent\"><img src=\"https://colab.research.google.com/assets/colab-badge.svg\" alt=\"Open In Colab\"/></a>"
      ]
    },
    {
      "cell_type": "markdown",
      "metadata": {
        "id": "tSawaquoIBf9"
      },
      "source": [
        "# BIOL 74.03 (SP23): Computational Modeling of the Nervous System\n",
        "## Exercise 3: Calculating membrane voltage and ionic currents in cells\n",
        "\n",
        "### Exercise goals\n",
        "\n",
        "1) Calculate resistances and capacitances within cellular geometries.\n",
        "\n",
        "2) Get comfortable writing code implementing mathematical equations and handling units\n",
        "\n",
        "3) Use the Nernst equation to calculate ionic reversal potentials\n",
        "\n",
        "4) Use the Goldman equation to calcualte resting membrane potentials\n",
        "\n",
        "5) Analyze a simple RC circuit, a building block on the way to our first neuron model\n",
        "\n",
        "Work through the code below, running each cell, adding code where required, and making sure you understand the output. When you see questions with ***Q:*** preceding them, write your responses in text cells."
      ]
    },
    {
      "cell_type": "code",
      "execution_count": 3,
      "metadata": {
        "id": "VWO7brUSssu7",
        "colab": {
          "base_uri": "https://localhost:8080/"
        },
        "outputId": "b3bdcffe-7371-4792-aec8-af7385724a79"
      },
      "outputs": [
        {
          "output_type": "stream",
          "name": "stdout",
          "text": [
            "Cloning into 'CompModNervSys-NernstVm'...\n",
            "remote: Enumerating objects: 28, done.\u001b[K\n",
            "remote: Counting objects: 100% (28/28), done.\u001b[K\n",
            "remote: Compressing objects: 100% (21/21), done.\u001b[K\n",
            "remote: Total 28 (delta 7), reused 28 (delta 7), pack-reused 0\u001b[K\n",
            "Receiving objects: 100% (28/28), 150.67 KiB | 12.56 MiB/s, done.\n",
            "Resolving deltas: 100% (7/7), done.\n"
          ]
        }
      ],
      "source": [
        "!git clone https://github.com/CompModNervSystem/CompModNervSys-NernstVm.git # downloads repository into our Google colab session's file system"
      ]
    },
    {
      "cell_type": "markdown",
      "metadata": {
        "id": "1I6zujZya_h2"
      },
      "source": [
        "# Membrane resistance and capacitance\n",
        "\n",
        "Suppose we have a spherical cell with diameter $d$ and a membrane with thickness $t$. Recall that resistance $R$ is given by $R = \\rho L/A$, where $\\rho$ is the resistivity of the medium, $L$ is the length over which current travels, and $A$ is the cross-sectional area. Write a function that computes the membrane resistance given a membrane resistivity $\\rho_{m}$, which has units $\\Omega \\cdot cm$. Use this function to compute the membrane resistance of a cell in units of $M\\Omega$ with a $10 \\; \\mu m$ diameter, membrane thickness of $3 \\; nm$ (this refers to the insulating part of the lipid bilayer), and resistivity of $5 \\; G \\Omega cm$ ($1\\cdot10^{9} \\Omega cm$) and print the output.\n",
        "\n",
        "For a refresher on converting between metric units, see the chart below:\n",
        "\n",
        "<img src=\"https://raw.githubusercontent.com/CompModNervSystem/CompModNervSys-NernstVm/main/resources/metric-prefix-scale.jpeg\" alt=\"Metric Prefix scale\" width=\"643\" height =\"288\">"
      ]
    },
    {
      "cell_type": "code",
      "execution_count": 4,
      "metadata": {
        "id": "HBM53l_sa_h2",
        "colab": {
          "base_uri": "https://localhost:8080/"
        },
        "outputId": "0debb5a3-58d9-405c-8523-48c1ae0cfde5"
      },
      "outputs": [
        {
          "output_type": "stream",
          "name": "stdout",
          "text": [
            "Resistance = 47746.5 MOhms\n"
          ]
        }
      ],
      "source": [
        "import numpy as np\n",
        "\n",
        "def calcRsphericalCell(rho_m, d,t):\n",
        "    SA = 4*np.pi*(d/2)**2  # surface area of a sphere\n",
        "    R = rho_m*t/SA\n",
        "\n",
        "    R_M = R * 1E-6  # convert to M Ohms\n",
        "\n",
        "    return R_M\n",
        "\n",
        "rho_m = 5E9 # Ohm*cm\n",
        "d = 10E-6 # diameter - cm\n",
        "t = 3E-9 # thickness - cm\n",
        "\n",
        "R = calcRsphericalCell(rho_m,d,t)\n",
        "print('Resistance = {:.1f} MOhms'.format(R))"
      ]
    },
    {
      "cell_type": "markdown",
      "metadata": {
        "id": "bg6PvODHa_h2"
      },
      "source": [
        "<font color='red'>\n",
        "\n",
        "---\n",
        "\n",
        "\n",
        "\n",
        "<b><i>Q1:</b></i> How would you convert this to the membrane's conductance?\n",
        "\n",
        "</font>"
      ]
    },
    {
      "cell_type": "markdown",
      "metadata": {
        "id": "qR-gFoo3a_h3"
      },
      "source": [
        "Conductance is the reciprocal of resistance so just calculate G = 1/R"
      ]
    },
    {
      "cell_type": "markdown",
      "metadata": {
        "id": "lUtyS8Y7a_h3"
      },
      "source": [
        "Now, write a similar function to calculate the membrane's capacitance. Recall the equation for capacitance of parallel plates is $C = \\epsilon A/L$, where $\\epsilon$ is the dielectric constant of the medium's between the plates, $A$ is the surface area, and $L$ is the distance between the plates. Use this function to compute the membrane capacitance of the same cell in units of $pF$ with $\\epsilon = 0.3 pF/cm$ and print the output."
      ]
    },
    {
      "cell_type": "code",
      "execution_count": 5,
      "metadata": {
        "id": "wHtVGmwOa_h3",
        "colab": {
          "base_uri": "https://localhost:8080/"
        },
        "outputId": "052317f0-f599-4d8f-ef94-779ea4e6f87c"
      },
      "outputs": [
        {
          "output_type": "stream",
          "name": "stdout",
          "text": [
            "Capacitance = 0.031 pF\n"
          ]
        }
      ],
      "source": [
        "def calcCsphericalCell(eps_m, d,t):\n",
        "    SA = 4*np.pi*(d/2)**2  # surface area of a sphere\n",
        "    C = eps_m*SA/t\n",
        "\n",
        "    C_p = C * 1E12 # convert to pico Farads\n",
        "\n",
        "    return C_p\n",
        "\n",
        "\n",
        "eps_m = 0.3e-12 # dielectric constant - F/cm\n",
        "d = 10E-6 # diameter - cm\n",
        "t = 3E-9 # thickness - cm\n",
        "\n",
        "C = calcCsphericalCell(eps_m,d,t)\n",
        "print('Capacitance = {:.3f} pF'.format(C))\n",
        "\n"
      ]
    },
    {
      "cell_type": "markdown",
      "metadata": {
        "id": "YsBHrjXca_h3"
      },
      "source": [
        "Since the membrane thickness is essentially constant across all excitable cells, it's often easier to refer to the *specific membrane resistance*, $R_{m}$, which is the resistance per unit area, and the *specific membrane capacitance*, $C_{m}$, which is the capacitance per unit area. $R_{m}$ is just the numerator of our resistance equation, so $\\rho_{m}t$, and $C_{m}$ is obtained by combining the $\\epsilon/t$ terms from the capacitance equation.\n",
        "\n",
        "<font color='red'>\n",
        "\n",
        "<b><i>Q2:</b></i> What values of $R_{m}$, in units of $\\Omega cm^{2}$, and $C_{m}$, in units of $\\mu F/cm^{2}$, do we get using the values given above? How does the cell's total membrane resistance $R$ and capacitance $C$ scale with the diameter and surface area of the cell?\n",
        "These are the quantities you're more likely to see reported in experimental and modeling literature and that we'll be using in our models.\n",
        "\n",
        "</font>"
      ]
    },
    {
      "cell_type": "code",
      "execution_count": 6,
      "metadata": {
        "id": "sZzQCp5Va_h3",
        "colab": {
          "base_uri": "https://localhost:8080/"
        },
        "outputId": "b74b61b0-f4c4-49e9-99a2-4eb7cc75f6c5"
      },
      "outputs": [
        {
          "output_type": "stream",
          "name": "stdout",
          "text": [
            "Specific Resistance = 15.0 Ohms*cm2\n",
            "Specific Capacitance = 100.000 uF/cm2\n"
          ]
        }
      ],
      "source": [
        "SA = 4*np.pi*(d/2)**2  # surface area of a sphere\n",
        "R_m = R*SA*1E6\n",
        "print('Specific Resistance = {:.1f} Ohms*cm2'.format(R_m))\n",
        "C_m = C/SA*1E-6\n",
        "print('Specific Capacitance = {:.3f} uF/cm2'.format(C_m))"
      ]
    },
    {
      "cell_type": "markdown",
      "metadata": {
        "id": "daHcZ7CQa_h3"
      },
      "source": [
        "Specific Resistance = 15.0 Ohms*cm2, Specific Capacitance = 100.000 uF/cm2 - calculated above"
      ]
    },
    {
      "cell_type": "markdown",
      "metadata": {
        "id": "Wfmj_DaYa_h3"
      },
      "source": [
        "Now, write new functions calculating the membrane resistance an capacitance, based on your functions above that instead take as input $R_{m}$ and $C_{m}$. Check that you get the same output as above. Be careful about units!"
      ]
    },
    {
      "cell_type": "code",
      "execution_count": 7,
      "metadata": {
        "id": "zN8Bu9gQa_h4",
        "colab": {
          "base_uri": "https://localhost:8080/"
        },
        "outputId": "6498c601-1fb0-4a93-f6fd-8666db9db45c"
      },
      "outputs": [
        {
          "output_type": "stream",
          "name": "stdout",
          "text": [
            "Resistance = 47746.5 MOhms\n",
            "Capacitance = 0.031 pF\n"
          ]
        }
      ],
      "source": [
        "def calcRsphericalCell_fromspecific(R_m, d):\n",
        "    SA = 4*np.pi*(d/2)**2  # surface area of a sphere\n",
        "    R = R_m/SA\n",
        "\n",
        "    R_M = R * 1E-6  # convert to M Ohms\n",
        "\n",
        "    return R_M\n",
        "\n",
        "def calcCsphericalCell_fromspecific(C_m, d):\n",
        "    SA = 4*np.pi*(d/2)**2  # surface area of a sphere\n",
        "    C = C_m*SA\n",
        "\n",
        "    C_p = C * 1E12 # convert to pico Farads\n",
        "\n",
        "    return C_p\n",
        "\n",
        "# Call your functions and return R and C here\n",
        "R_m = 15 # Ohms*cm2\n",
        "C_m = 100E-6 # F/cm2\n",
        "d = 10E-6\n",
        "R = calcRsphericalCell_fromspecific(R_m, d)\n",
        "C = calcCsphericalCell_fromspecific(C_m, d)\n",
        "\n",
        "print('Resistance = {:.1f} MOhms'.format(R))\n",
        "\n",
        "print('Capacitance = {:.3f} pF'.format(C))"
      ]
    },
    {
      "cell_type": "markdown",
      "metadata": {
        "id": "pJ4lLdiUuX2q"
      },
      "source": [
        "# Calculating the Nernst potential\n",
        "\n",
        "Now let's calculate the Nernst equilibrium potential for some typical ion concentrations in mammalian neurons. Recall the Nernst equation is:\n",
        "\n",
        "$V_{m}^{eq} = RT/ZF \\ln([C]_e/[C]_i)$\n",
        "\n",
        "Where $R$ is the gas constant, $8.314 J/K \\cdot mole$, $T$ is temperature in $K$ (Kelvin), $Z$ is the ion's valence (don't forget the sign!), and $F$ is Faraday's constant, $96,485.3 C/mole$. $[C]_e$ and $[C]_i$ are the extracellular and intracellular concentrations.\n",
        "\n",
        "\n",
        "<font color='red'>\n",
        "\n",
        "<b><i>Q3</b></i>: Do the units matter for concentration in this equation?\n",
        "\n",
        "</font>"
      ]
    },
    {
      "cell_type": "markdown",
      "metadata": {
        "id": "pzHuC-bia_h4"
      },
      "source": [
        "NO the units don't matter because they totally cancel each other in the log- however the units of the two need to be the same for this cancel to occur at the correct order of magnitude (i.e. need matching M and M or mM and mM, etc)."
      ]
    },
    {
      "cell_type": "markdown",
      "metadata": {
        "id": "ZjWgEnrwa_h4"
      },
      "source": [
        "| Ion            | Intracellular [mM] | Extracellular [mM] |\n",
        "| -------------- | ------------------ | ------------------ |\n",
        "| Potassium (K+) | 140 | 5 |\n",
        "| Sodium (Na+) | 15 | 145 |\n",
        "| Chloride (Cl-) | 5 | 110 |\n",
        "\n",
        "\n",
        "Write a single function that outputs the Nernst potential for a given ion. Then, using your function and the concentrations above, print the Nernst potentials (in $mV$) for potassium, sodium, and chloride for a neuron at body temperature ($37^{\\circ} C$). Just use 1 decimal place for outputting these values."
      ]
    },
    {
      "cell_type": "code",
      "execution_count": 8,
      "metadata": {
        "id": "67yF3LFea_h4",
        "colab": {
          "base_uri": "https://localhost:8080/"
        },
        "outputId": "60567e6f-7833-4faf-8310-827d3578f462"
      },
      "outputs": [
        {
          "output_type": "stream",
          "name": "stdout",
          "text": [
            "Ek = -89.0 mV, Ena = 60.6 mV, Ecl = -82.6 mV\n"
          ]
        }
      ],
      "source": [
        "def calcNernstIon(T, Z, C_e, C_i):\n",
        "    T += 273 # convert to Kelvin\n",
        "    R = 8.314 # J/K*mole\n",
        "    F = 96485.3 # C/mole\n",
        "\n",
        "    V_eqm = 1E3*R*T*np.log(C_e/C_i)/(Z*F) # calculate Nernst potential in V and convert to mV\n",
        "\n",
        "    return V_eqm\n",
        "\n",
        "T = 37\n",
        "Ek = calcNernstIon(T,1,5,140)\n",
        "Ena = calcNernstIon(T,1,145,15)\n",
        "Ecl = calcNernstIon(T,-1,110,5)\n",
        "print('Ek = {:.1f} mV, Ena = {:.1f} mV, Ecl = {:.1f} mV'.format(Ek,Ena,Ecl))"
      ]
    },
    {
      "cell_type": "markdown",
      "metadata": {
        "id": "LUe3GJhqa_h4"
      },
      "source": [
        "This gives us the reversal potential for individual ions, but we know from the Goldman equation that the actual rest potential is a function of the ion concentrations *and* their permeabilities in the membrane. The Goldman equation is given by:\n",
        "\n",
        "$V_{m}^{eq} = \\frac{RT}{F}\\ln \\left( \\frac{P_{K}[K]e + P_{Na}[Na]e + P_{Cl}[Cl]i}{P_{K}[K]i + P_{Na}[Na]i + P_{Cl}[Cl]e} \\right)$\n",
        "\n",
        "Write a function that uses the Goldman equation to compute the resting potential given a set of K, Na, and Cl- permeabilities and concentrations. Use it to calculate the resting potential given relative resting permeabilities $P_{K}:P_{Na}:P_{Cl}$ of $1:0.05:0.45$ at body temperature and print the output in $mV$."
      ]
    },
    {
      "cell_type": "code",
      "execution_count": 9,
      "metadata": {
        "id": "3M1sPRNSa_h4",
        "colab": {
          "base_uri": "https://localhost:8080/"
        },
        "outputId": "e43057d1-a8c7-47b7-aaa8-24ac0c78b1c7"
      },
      "outputs": [
        {
          "output_type": "stream",
          "name": "stdout",
          "text": [
            "Resting Vm = -68.8 mV\n"
          ]
        }
      ],
      "source": [
        "def calcVmGoldman(T,Pk,Cki,Cke,Pna,Cnai,Cnae,Pcl,Ccli,Ccle):\n",
        "    T += 273 # convert to Kelvin\n",
        "    R = 8.314 # J/K*mole\n",
        "    F = 96485.3 # C/mole\n",
        "\n",
        "    V_eqm = 1E3*(R*T/F)*np.log((Pk*Cke + Pna*Cnae + Pcl*Ccli)/(Pk*Cki + Pna*Cnai + Pcl*Ccle))\n",
        "\n",
        "    return V_eqm\n",
        "\n",
        "# parameters\n",
        "T = 37  # Temperature in degrees Celsius\n",
        "Pk = 1  # Permeability for potassium\n",
        "Cki = 140  # Intracellular potassium concentration in mM\n",
        "Cke = 5  # Extracellular potassium concentration in mM\n",
        "Pna = 0.05  # Permeability for sodium\n",
        "Cnai = 15  # Intracellular sodium concentration in mM\n",
        "Cnae = 145  # Extracellular sodium concentration in mM\n",
        "Pcl = 0.45  # Permeability for chloride\n",
        "Ccli = 5  # Intracellular chloride concentration in mM\n",
        "Ccle = 110  # Extracellular chloride concentration in mM\n",
        "\n",
        "Vm = calcVmGoldman(T,Pk,Cki,Cke,Pna,Cnai,Cnae,Pcl,Ccli,Ccle)\n",
        "\n",
        "print('Resting Vm = {:.1f} mV'.format(Vm))"
      ]
    },
    {
      "cell_type": "markdown",
      "metadata": {
        "id": "GfjSRHVIa_h4"
      },
      "source": [
        "Now, suppose we were doing an experiment where we had some neurons in a dish and can control the concentration of ions in the extracellular solution. When mimicking the normal extracellular environment of neurons, this solution is sometimes called artificial cerebrospinal fluid (aCSF). It also includes other important things like buffers and energy sources (glucose) so our neurons are happy outside of the brain where they usually belong, but for our purposes, the ions are what matters.\n",
        "\n",
        "We want to see how resting membrane potential varies with extracellular potassium concentration, which we control in the aCSF. We can measure the intracellular voltage of the cell with a special electrode made out of a glass micropipette pulled to a fine tip less than 1 $\\mu m$ in diameter containing an electrolyte solution mimicking the cytosol and a wire that connects to a fancy voltmeter that amplifies small voltage or current signals. We'll talk more about this technique, called patch clamp electrophysiology, in class.\n",
        "\n",
        "Assuming your function worked, you can tell that the resting membrane potential is closest to the Nernst potential for potassium ($E_{k}$). If we did an experiment varying the extracellular potassium concentration and measuring resting membrane potential, what would we see? Use `matplotlib` (or your preferred plotting package) to plot the resting membrane potential vs. extracellular potassium concentration. Assume all the other intracellular and extracellular concentrations are the same as before and we heated up our neurons to body temperature. Use a log-scale on the x-axis. (Hint: your output should look like Figure 2.7 from Ch.2 of Purves, Neuroscience, the assigned reading)."
      ]
    },
    {
      "cell_type": "code",
      "execution_count": 32,
      "metadata": {
        "id": "GXHT2pVna_h4",
        "colab": {
          "base_uri": "https://localhost:8080/",
          "height": 477
        },
        "outputId": "8887a7a0-3307-433b-bc4f-be1595400500"
      },
      "outputs": [
        {
          "output_type": "execute_result",
          "data": {
            "text/plain": [
              "(-80.0, 10.0)"
            ]
          },
          "metadata": {},
          "execution_count": 32
        },
        {
          "output_type": "display_data",
          "data": {
            "text/plain": [
              "<Figure size 640x480 with 1 Axes>"
            ],
            "image/png": "[encoded data removed]"
          },
          "metadata": {}
        }
      ],
      "source": [
        "import matplotlib.pyplot as plt\n",
        "\n",
        "# parameters\n",
        "T = 37  # Temperature in degrees Celsius\n",
        "Pk = 1  # Permeability for potassium\n",
        "Cki = 140  # Intracellular potassium concentration in mM\n",
        "Cke = 5  # Extracellular potassium concentration in mM\n",
        "Pna = 0.05  # Permeability for sodium\n",
        "Cnai = 15  # Intracellular sodium concentration in mM\n",
        "Cnae = 145  # Extracellular sodium concentration in mM\n",
        "Pcl = 0.45  # Permeability for chloride\n",
        "Ccli = 5  # Intracellular chloride concentration in mM\n",
        "Ccle = 110  # Extracellular chloride concentration in mM\n",
        "\n",
        "Ce_k_vec = np.logspace(np.log10(2), np.log10(500), 100) # vector of concentrations in mM\n",
        "Vm_vec = Vm_vec = np.zeros_like(Ce_k_vec) # empty vector of resting membrane potentials (mV)\n",
        "for i, Cke in enumerate(Ce_k_vec):\n",
        "    Vm_vec[i] = calcVmGoldman(T, Pk, Cki, Cke, Pna, Cnai, Cnae, Pcl, Ccli, Ccle)\n",
        "\n",
        "fig = plt.figure()\n",
        "ax = fig.add_subplot(111)\n",
        "# Plot statement goes here\n",
        "ax.plot(Ce_k_vec,Vm_vec)\n",
        "ax.grid(visible=True)\n",
        "ax.set_xscale('log')\n",
        "ax.set_xlabel('[K+]e (mM)')\n",
        "ax.set_ylabel('Vr (mV)')\n",
        "ax.set_xlim([2, 500])\n",
        "ax.set_ylim([-80,10])"
      ]
    },
    {
      "cell_type": "markdown",
      "metadata": {
        "id": "A6HPKkF5a_h4"
      },
      "source": [
        "Let's say we wanted to do an experiment where we raised the resting membrane potential by $10 mV$ from the value you calculated earlier. What concentration of K+ should we use in the extracellular solution?\n",
        "\n",
        "You could do some math to work this out, or if you're lazy (like me), write some code to work it out for you. One way would be to just plug in a vector of finely sampled $[K+]_{e}$ (guesses) to the Goldman equation function you wrote and extract the resting membrane potential closest to our desired potential. Write a function below that does this using either this method or a method of your choosing. If you get stuck here, you can just use the \"guess and check\" method with your function and move on.\n"
      ]
    },
    {
      "cell_type": "code",
      "execution_count": 11,
      "metadata": {
        "id": "9QXIU9pla_h4",
        "colab": {
          "base_uri": "https://localhost:8080/"
        },
        "outputId": "e92207f9-4efe-49a8-9b40-94cdf7091b16"
      },
      "outputs": [
        {
          "output_type": "stream",
          "name": "stdout",
          "text": [
            "New Resting Vm = -58.8 mV\n",
            "Extracellular K+ concentration for desired membrane potential: 11.27 mM\n"
          ]
        }
      ],
      "source": [
        "def find_K_concentration_for_desired_potential(desired_potential, T, Pk, Cki, Pna, Cnai, Cnae, Pcl, Ccli, Ccle):\n",
        "    # Define a range of extracellular potassium concentrations (here we use a log scale)\n",
        "    Ce_k_range = np.logspace(np.log10(2), np.log10(500), 100)\n",
        "\n",
        "    # Initialize variables to store the closest membrane potential and corresponding K+ concentration\n",
        "    closest_potential = float('inf')\n",
        "    closest_concentration = None\n",
        "\n",
        "    # Iterate over the range of extracellular potassium concentrations\n",
        "    for Cke in Ce_k_range:\n",
        "        # Calculate the membrane potential for the current potassium concentration\n",
        "        Vm = calcVmGoldman(T, Pk, Cki, Cke, Pna, Cnai, Cnae, Pcl, Ccli, Ccle)\n",
        "\n",
        "        # Check if the calculated membrane potential is closer to the desired potential\n",
        "        if abs(Vm - desired_potential) < abs(closest_potential - desired_potential):\n",
        "            closest_potential = Vm\n",
        "            closest_concentration = Cke\n",
        "\n",
        "    return closest_concentration\n",
        "\n",
        "desired_potential = Vm + 10  # Raise the previous resting membrane potential by 10 mV\n",
        "print('New Resting Vm = {:.1f} mV'.format(desired_potential))\n",
        "\n",
        "T = 37  # Temperature in degrees Celsius\n",
        "Pk = 1  # Permeability for potassium\n",
        "Cki = 140  # Intracellular potassium concentration in mM\n",
        "Pna = 0.05  # Permeability for sodium\n",
        "Cnai = 15  # Intracellular sodium concentration in mM\n",
        "Cnae = 145  # Extracellular sodium concentration in mM\n",
        "Pcl = 0.45  # Permeability for chloride\n",
        "Ccli = 5  # Intracellular chloride concentration in mM\n",
        "Ccle = 110  # Extracellular chloride concentration in mM\n",
        "\n",
        "# Find extracellular potassium concentration for desired membrane potential\n",
        "desired_concentration = find_K_concentration_for_desired_potential(desired_potential, T, Pk, Cki, Pna, Cnai, Cnae, Pcl, Ccli, Ccle)\n",
        "\n",
        "print('Extracellular K+ concentration for desired membrane potential: {:.2f} mM'.format(desired_concentration))\n"
      ]
    },
    {
      "cell_type": "markdown",
      "metadata": {
        "id": "Z_DVVOlia_h4"
      },
      "source": [
        "# First look at the RC circuit model\n",
        "\n",
        "Let's start playing with the most basic circuit model of a cell membrane, an RC circuit, shown below. In this case, we're modeling the membrane conductance as *passive*, i.e., ignoring the presence of nonlinear voltage gated ion channels. This turns out to be a decent model of neuronal membranes at voltages near equilibrium, since the nonlinear currents are still small. The circuit is composed of the membrane capacitance $C_{m}$ in parallel with a resistor $R$ representing an ionic conductance ($g=1/R$) with a reversal potential $E_{rev}$. This is sometimes referred to as the *leak* conductance and is simply the total conductance of the membrane's ion channels at rest lumped together and treated as passive (non-voltage dependent). Since we only have a single leak conductance, this is equivalent to the membrane resistance, $R_{m}$, which we'll use in the model equations below.\n",
        "\n",
        "\n",
        "<img src=\"https://raw.githubusercontent.com/CompModNervSystem/CompModNervSys-NernstVm/main/resources/RC_circuit.png\" alt=\"RC circuit schematic\" width=\"381\" height =\"254\">"
      ]
    },
    {
      "cell_type": "markdown",
      "metadata": {
        "id": "o76AUgrQa_h4"
      },
      "source": [
        "There's only one path for current to flow, so we know the capacitive current is always equal and opposite to the ionic current:\n",
        "\n",
        "$I_{C}(t) = -I_{ion}(t)$.\n",
        "\n",
        "Recall, the equation for current in a capacitor is $I_{C} = CdV/dt$ and the equation for current through an ion channel with a reversal potential is just the modified version of Ohm's law we introduced in class, $I_{ion} = (1/R)(V_{m} - E_{rev})$. Putting these together we have:\n",
        "\n",
        "$C_{m}\\frac{dV_{m}(t)}{dt} = -(V_{m}(t) - E_{rev})/R_{m}$.\n",
        "\n",
        "This is just a first order ordinary differential equation, which you may have seen before. I won't go through the derivation here, but here's the solution for $V_{m}$:\n",
        "\n",
        "$V_{m}(t) = (V_{0}-E_{rev})e^{-t/R_{m}C_{m}} + E_{rev}$,\n",
        "\n",
        "where $V_{0}$ is $V_{m}$ at $t=0$."
      ]
    },
    {
      "cell_type": "markdown",
      "metadata": {
        "id": "RA_8TOUCa_h4"
      },
      "source": [
        "\n",
        "**Q4: First, what is Vm at equilibrium (t approaches infinity) and why?**"
      ]
    },
    {
      "cell_type": "markdown",
      "metadata": {
        "id": "t2rOma4da_h4"
      },
      "source": [
        "Vm as t approaches infinity is Erev because the exponential term goes to 0 as t goes to infinity. Also this makes sense because Erev represents the membrane potential when there is zero net ionic current through the membrane."
      ]
    },
    {
      "cell_type": "markdown",
      "metadata": {
        "id": "1F-sG7vOa_h4"
      },
      "source": [
        "Now, let's use this model to simulate a simplified version of the experiment we conducted above where we wanted to increase the resting membrane potential by $10 mV$. Imagine we started with a reversal potential, in this case of our nonspecific leak conductance $E_{rev}$, of $-70 mV$, and we had a way of instantaneously changing the ion concentrations in the bath to generate our new reversal potential, $-60 mV$.\n",
        "\n",
        "Use the equation above and `numpy`/`matplotlib` to plot the voltage in $mV$ vs. time in $ms$. Use the $R$ and $C$ values we calculated at the beginning for a spherical cell for $R_{m}$ and $C_{m}$. Be careful about units!"
      ]
    },
    {
      "cell_type": "code",
      "execution_count": 31,
      "metadata": {
        "id": "P7PR4NJ4a_h4",
        "colab": {
          "base_uri": "https://localhost:8080/",
          "height": 449
        },
        "outputId": "3c664404-415a-458f-bf1b-978287e892ab"
      },
      "outputs": [
        {
          "output_type": "display_data",
          "data": {
            "text/plain": [
              "<Figure size 640x480 with 1 Axes>"
            ],
            "image/png": "[encoded data removed]"
          },
          "metadata": {}
        }
      ],
      "source": [
        "t = np.linspace(0, 0.025, 100)  # time in seconds\n",
        "\n",
        "# Parameters\n",
        "V0 = -70  # initial reversal potential in mV\n",
        "E_rev_final = -60  # final reversal potential in mV\n",
        "R_m = 15  # membrane resistance in Ohms * cm2\n",
        "C_m = 100E-6  # membrane capacitance in F/cm2\n",
        "\n",
        "# Calculate membrane voltage using the provided equation\n",
        "Vm = (V0 - E_rev_final) * np.exp(-t / (R_m * C_m)) + E_rev_final  # membrane voltage in mV\n",
        "\n",
        "# Plot the results\n",
        "fig = plt.figure()\n",
        "ax = fig.add_subplot(111)\n",
        "ax.plot(t*1E3, Vm)\n",
        "ax.set_xlabel('time (ms)')\n",
        "ax.set_ylabel('Vm (mV)')\n",
        "ax.grid(visible=True)\n",
        "plt.show()"
      ]
    },
    {
      "cell_type": "markdown",
      "metadata": {
        "id": "Zm7MdTnda_h5"
      },
      "source": [
        "As you may know from a differential equations course, the product $RC$ in this equation is also known as the time constant $\\tau$. In our case, this is known as the *membrane time constant* and is given the special symbol $\\tau_{m}$. It has units of time ($\\Omega \\cdot F = sec$, or $k\\Omega \\cdot \\mu F = ms$). From inspecting the equation or your plot, you can see it's the time at which the voltage reaches 63.2% ($1-1/e$) of it's steady state value (or increases by 36.8%). In general, the time constant is a measure of how fast the membrane voltage can change in response to a stimulus (shorter times being faster). In our artificial situation, this was an instant change in bath concentrations, but later, this will be currents generated by synaptic inputs or electrical stimulation we apply.\n",
        "\n",
        "Below, try overlaying plots of the same manipulation if the time constant was doubled or halved."
      ]
    },
    {
      "cell_type": "code",
      "execution_count": 33,
      "metadata": {
        "id": "UIlOgmvza_h5",
        "colab": {
          "base_uri": "https://localhost:8080/",
          "height": 467
        },
        "outputId": "2fa47e07-4dc8-45d5-a29e-dc3dd9ce7c59"
      },
      "outputs": [
        {
          "output_type": "execute_result",
          "data": {
            "text/plain": [
              "<matplotlib.legend.Legend at 0x7c7dd7754d60>"
            ]
          },
          "metadata": {},
          "execution_count": 33
        },
        {
          "output_type": "display_data",
          "data": {
            "text/plain": [
              "<Figure size 640x480 with 1 Axes>"
            ],
            "image/png": "[encoded data removed]"
          },
          "metadata": {}
        }
      ],
      "source": [
        "# Your code goes here\n",
        "tau1 = R_m*C_m\n",
        "tau2 = tau1*2\n",
        "tau3 = tau1/2\n",
        "Vm1 = (V0 - E_rev_final) * np.exp(-t / (tau1)) + E_rev_final\n",
        "Vm2 = (V0 - E_rev_final) * np.exp(-t / (tau2)) + E_rev_final\n",
        "Vm3 = (V0 - E_rev_final) * np.exp(-t / (tau3)) + E_rev_final\n",
        "fig = plt.figure()\n",
        "ax = fig.add_subplot(111)\n",
        "ax.plot(t*1e3,Vm1,label='tau = {:.1f} ms'.format(tau1*1e3))\n",
        "ax.plot(t*1e3,Vm2,label='tau = {:.1f} ms'.format(tau2*1e3))\n",
        "ax.plot(t*1e3,Vm3,label='tau = {:.1f} ms'.format(tau3*1e3))\n",
        "ax.set_xlabel('time (ms)')\n",
        "ax.set_ylabel('Vm (mV)')\n",
        "ax.grid(visible=True)\n",
        "ax.legend()"
      ]
    },
    {
      "cell_type": "markdown",
      "metadata": {
        "id": "OtSCmOfta_h5"
      },
      "source": [
        "<font color='red'>\n",
        "\n",
        "<b><i>Q5:</b></i> What physical variable could actually be changing to mediate this change in membrane time constant?\n",
        "\n",
        "</font>"
      ]
    },
    {
      "cell_type": "markdown",
      "metadata": {
        "id": "mSPuFYGia_h5"
      },
      "source": [
        "Resistance and capacitance both depend on the membrane thickness and surface area of the cell so if either of these factors are changing- we would see an increase/decrease in the time constant."
      ]
    },
    {
      "cell_type": "markdown",
      "metadata": {
        "id": "CRzyIMBPa_h5"
      },
      "source": [
        "Let's also take a look at the capacitive and ionic currents underlying the changes in $V_{m}$ for the first case we simulated. Plot the capacitive and ionic current as current densities in units of $pA/\\mu m2$ by dividing each current by the total membrane surface area ($A = 4\\pi(d/2)^2$, still using $d = 10 \\; \\mu m$).\n",
        "\n",
        "Since the capacitive current is given by $C_{m} dV_{m}/dt$, you could calculate the capacitive current numerically by taking the numerical *difference* of the voltage traces, but in this case, we can calculate the capacitive current analytically:\n",
        "\n",
        "$I_{C}(t) = C_{m}dV_{m}/dt = C_{m}\\frac{d}{dt}\\left((V_{0}-E_{rev})\\exp^{-t/R_{m}C_{m}} + E_{rev}\\right)$\n",
        "\n",
        "$I_{C}(t) = -\\frac{V_{0} - E_{rev}}{R_{m}}\\exp^{-t/R_{m}C_{m}}$"
      ]
    },
    {
      "cell_type": "code",
      "execution_count": 45,
      "metadata": {
        "id": "8mVPbdFma_h5",
        "colab": {
          "base_uri": "https://localhost:8080/",
          "height": 514
        },
        "outputId": "c6844165-cbd9-43e1-c739-2e77b23bd4b7"
      },
      "outputs": [
        {
          "output_type": "display_data",
          "data": {
            "text/plain": [
              "<Figure size 800x600 with 2 Axes>"
            ],
            "image/png": "[encoded data removed]"
          },
          "metadata": {}
        }
      ],
      "source": [
        "t = np.linspace(0, 0.01, 100)  # time in seconds\n",
        "\n",
        "# Calculate capacitive current analytically\n",
        "IC = 1E-4*(-V0 + E_rev_final) / (R_m) * np.exp(-t / (R_m * C_m))  # capacitive current in pA\n",
        "\n",
        "# Calculate ionic current\n",
        "Vm = (V0 - E_rev_final) * np.exp(-t / (R_m * C_m)) + E_rev_final  # membrane voltage in mV\n",
        "Iionic = 1E-4 * np.gradient(Vm) / (1 / (R_m * C_m))  # ionic current in pA\n",
        "\n",
        "# Normalize currents by membrane surface area\n",
        "IC_density = IC / SA  # capacitive current density in pA/μm²\n",
        "Iionic_density = Iionic / SA  # ionic current density in pA/μm²\n",
        "\n",
        "# Plot the results\n",
        "fig, ax = plt.subplots(2, 1, figsize=(8, 6), sharex=True)\n",
        "\n",
        "ax[0].plot(t*1E3, IC_density, label='Capacitive Current Density')\n",
        "ax[0].set_ylabel('Current Density (pA/μm²)')\n",
        "ax[0].grid(visible=True)\n",
        "ax[0].legend()\n",
        "\n",
        "ax[1].plot(t*1E3, Iionic_density, label='Ionic Current Density', color='orange')\n",
        "ax[1].set_xlabel('Time (ms)')\n",
        "ax[1].set_ylabel('Current Density (pA/μm²)')\n",
        "ax[1].grid(visible=True)\n",
        "ax[1].legend()\n",
        "\n",
        "plt.tight_layout()\n",
        "plt.show()"
      ]
    },
    {
      "cell_type": "markdown",
      "metadata": {
        "id": "_uh5B9I3a_h5"
      },
      "source": [
        "\n",
        "Finally, let's test a pretty major assumption we made when deciding to represent the Nernst potential as a fixed voltage source (battery). I mentioned in lecture that the ionic fluxes required to reach equilibrium, and more generally, that occur in the normal course of neural signaling don't significantly affect the bulk concentration of ions in the cell. Suppose we accomplished the $10 mV$ change by increasing the extracellular potassium concentration."
      ]
    },
    {
      "cell_type": "markdown",
      "metadata": {
        "id": "la0nY-jOa_h5"
      },
      "source": [
        "<font color='red'>\n",
        "\n",
        "<b><i>Q6:</b></i> First, in your own words, explain the sequence of events leading from the initial condition ($V_{m} = -70 mV$) to the final steady state condition ($V_{m} = -60 mV$).\n",
        "\n",
        "</font>"
      ]
    },
    {
      "cell_type": "markdown",
      "metadata": {
        "id": "wHEo3ct3a_h5"
      },
      "source": [
        "Concentration of extracellular K increases --> this causes increase in reversal potential for K which causes the membrane potential to depolarize from -70 mV. K ions start to move down the electrochemical gradient from outside to inside the cell due to the change and the influx of K ions also continues to depolarize the cell, making Vm even less negative. Eventually, the new steady state of -60 mV is reached when the balance between the concentration gradient and electric potential gradient for K ions is reached."
      ]
    },
    {
      "cell_type": "markdown",
      "metadata": {
        "id": "EEgZv7RXa_h5"
      },
      "source": [
        "\n",
        "The excess charge from the movement of positive ions (let's use K+ for simplicity) is $Q=\\Delta V_{m}C_{m}$. We can convert this from electrical charge in Coulombs to the amount of ion particles in moles $N$ using Faraday's constant, $N = Q/F$. Fill in the empty portions of the calculations below."
      ]
    },
    {
      "cell_type": "code",
      "execution_count": 69,
      "metadata": {
        "id": "Z8IQVoq-a_iA",
        "colab": {
          "base_uri": "https://localhost:8080/"
        },
        "outputId": "7892881b-1895-40b3-ea0c-c4190bde6c12"
      },
      "outputs": [
        {
          "output_type": "stream",
          "name": "stdout",
          "text": [
            "The intracellular concentration changed from 140.0 mM to 140.1979 mM, 0.1414 % change\n"
          ]
        }
      ],
      "source": [
        "deltaVm = 0.001 # V - change in membrane voltage\n",
        "Q = deltaVm*(C_m*0.0001) # C - charge built up on membrane\n",
        "F = 96485.3 # C/mol - faraday's constant\n",
        "N = Q/F # number of charges moved\n",
        "d = 10e-6 # m\n",
        "Vol = (4/3)*np.pi*(d/2)**3 # m^3\n",
        "Vol = Vol*1e3 # convert to L (1000 L per cubic meter)\n",
        "Cki = 140e-3 # M - mols/liter - initial concentration\n",
        "Ntot = Cki*Vol # mols K - initial\n",
        "Cki2 =  (Ntot+N)/Vol # M - mols/liter - final concentration\n",
        "print('The intracellular concentration changed from {} mM to {:.4f} mM, {:.4f} % change'.format(Cki*1e3,Cki2*1e3,100*(Cki2-Cki)/Cki))\n"
      ]
    },
    {
      "cell_type": "markdown",
      "metadata": {
        "id": "UmlqyeL2a_iA"
      },
      "source": [
        "<font color='red'>\n",
        "\n",
        "<b><i>Q7:</b></i>\n",
        "Is our assumption that ionic concentrations aren't affected by the ionic currents okay and why? Under what conditions is it a better or worse assumption,\n",
        "or in other words, can you think of scenarios where it would be more or less safe?\n",
        "\n",
        "</font>"
      ]
    },
    {
      "cell_type": "markdown",
      "metadata": {
        "id": "-RRS365xa_iA"
      },
      "source": [
        "The change in ion concentration is pretty negligble compared to overall concentration (less than 1%), supporting our assumption that ionic concentrations are not significantly affected by ionic currents under our assumed conditions. Scenarios in which it would be a worse assumption include when ionic concentrations are more similar in magnitude to ionic currents- for example we may see this with calcium ions where the concentration is small and therefore ionic currents would have significant impacts on ionic concentrations."
      ]
    }
  ],
  "metadata": {
    "colab": {
      "provenance": [],
      "include_colab_link": true
    },
    "kernelspec": {
      "display_name": "Python 3",
      "name": "python3"
    },
    "language_info": {
      "codemirror_mode": {
        "name": "ipython",
        "version": 3
      },
      "file_extension": ".py",
      "mimetype": "text/x-python",
      "name": "python",
      "nbconvert_exporter": "python",
      "pygments_lexer": "ipython3",
      "version": "3.9.16"
    }
  },
  "nbformat": 4,
  "nbformat_minor": 0
}